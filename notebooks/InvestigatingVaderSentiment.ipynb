{
 "cells": [
  {
   "cell_type": "markdown",
   "metadata": {},
   "source": [
    "### Objective\n",
    "- Get a better understanding of the VaderSentiment model\n",
    "- Trying to understand the model's predictions\n",
    "- Using the model to predict emotions for a given text\n",
    "- Using the model to predict emotions on a customer review dataset/ corpus"
   ]
  },
  {
   "cell_type": "markdown",
   "metadata": {},
   "source": [
    "Based on scoring for each sentiment, the model assigns a compound score. The compound score is a metric that calculates the sum of all the lexicon ratings which have been normalized between -1(most extreme negative) and +1 (most extreme positive). The compound score is useful for summarizing the sentiments of a given sentence and classifying the sentence as positive, neutral, or negative.\n",
    "\n",
    "The mathematics is as follows:\n",
    "```\n",
    "{\n",
    "positive sentiment: compound score >= 0.05\n",
    "neutral sentiment: (compound score > -0.05) and (compound score < 0.05)\n",
    "negative sentiment: compound score <= -0.05\n",
    "}\n",
    "```"
   ]
  },
  {
   "cell_type": "code",
   "execution_count": 3,
   "metadata": {},
   "outputs": [
    {
     "name": "stdout",
     "output_type": "stream",
     "text": [
      "Sentiment of text 1: {'neg': 0.0, 'neu': 0.73, 'pos': 0.27, 'compound': 0.5719}\n",
      "Sentiment of text 2: {'neg': 0.508, 'neu': 0.492, 'pos': 0.0, 'compound': -0.4767}\n"
     ]
    }
   ],
   "source": [
    "from vaderSentiment.vaderSentiment import SentimentIntensityAnalyzer\n",
    "from vaderSentiment.vaderSentiment import SentimentIntensityAnalyzer\n",
    "sentiment = SentimentIntensityAnalyzer()\n",
    "text_1 = \"The book was a perfect balance between wrtiting style and plot.\"\n",
    "text_2 =  \"The pizza tastes terrible.\"\n",
    "sent_1 = sentiment.polarity_scores(text_1)\n",
    "sent_2 = sentiment.polarity_scores(text_2)\n",
    "print(\"Sentiment of text 1:\", sent_1)\n",
    "print(\"Sentiment of text 2:\", sent_2)"
   ]
  },
  {
   "cell_type": "markdown",
   "metadata": {},
   "source": [
    "### Trying some customer reviews"
   ]
  },
  {
   "cell_type": "code",
   "execution_count": 4,
   "metadata": {},
   "outputs": [
    {
     "data": {
      "text/plain": [
       "{'neg': 0.111, 'neu': 0.858, 'pos': 0.031, 'compound': -0.9508}"
      ]
     },
     "execution_count": 4,
     "metadata": {},
     "output_type": "execute_result"
    }
   ],
   "source": [
    "# Vodacom Review\n",
    "custReview1 = '''\n",
    "Pathetic Service\n",
    "I have been to Vodacom Eastgate on the 8th Nov 22 to get a report on my phone due to damage and send report to Outsurance to get it repaired.  I remembered I could upgrade on my other no which I did as I needed a phone for work purposes.  I always take the combo packages but was refused due to be some covid issues yet last year I was allowed to take a combo, which I could not understand.\n",
    "I then went few days later and upgraded another no and again could'nt get a combo.  Vodacom is so quick to make a call and insist that they will give me better deals as I am a customer since 2004 but to get this service is pathetic.  I will not refer anyone to go to Vodacom as this service has really disappointed me as I spoke to 2x consultants and no one called me back to discuss this issue.  One guys name was Mohammed & I cannot remember the other guys name but they both said it will be escalated to the Manager's, which till today hasn't called me.\n",
    "I will definitely start cancelling all my contracts with Vodacom as they come to an end as I have been a customer for 18yrs.\n",
    "'''\n",
    "sentiment.polarity_scores(custReview1)"
   ]
  },
  {
   "cell_type": "code",
   "execution_count": 5,
   "metadata": {},
   "outputs": [
    {
     "data": {
      "text/plain": [
       "{'neg': 0.138, 'neu': 0.783, 'pos': 0.078, 'compound': -0.5222}"
      ]
     },
     "execution_count": 5,
     "metadata": {},
     "output_type": "execute_result"
    }
   ],
   "source": [
    "custReview2 = '''\n",
    "Nedbank is a fraud bank. Internal staff are processing transactions without account holders authorisation. Check your bank statements regularly. When reported nothing is still not being done. Case:**********9. No call back from managers. 5 days later even after making a follow up nothing. Pathetic service, especially when we pay for it. My money is clearly not safe with Nedbank now I believe it.\n",
    "'''\n",
    "sentiment.polarity_scores(custReview2)"
   ]
  },
  {
   "cell_type": "code",
   "execution_count": 6,
   "metadata": {},
   "outputs": [
    {
     "data": {
      "text/plain": [
       "{'neg': 0.0, 'neu': 0.633, 'pos': 0.367, 'compound': 0.7964}"
      ]
     },
     "execution_count": 6,
     "metadata": {},
     "output_type": "execute_result"
    }
   ],
   "source": [
    "custReview3 = '''\n",
    "Nedbank is a good service provider to help South Africa to achieve in live. Thank you Nedbank\n",
    "'''\n",
    "sentiment.polarity_scores(custReview3)"
   ]
  },
  {
   "cell_type": "code",
   "execution_count": 7,
   "metadata": {},
   "outputs": [
    {
     "data": {
      "text/plain": [
       "{'neg': 0.179, 'neu': 0.694, 'pos': 0.127, 'compound': -0.5775}"
      ]
     },
     "execution_count": 7,
     "metadata": {},
     "output_type": "execute_result"
    }
   ],
   "source": [
    "custReview4 = '''\n",
    "Just feeling bummed out. Yes I know it is my own fault that my debt is so high, but I am trying to get a comsolidation loan which will automatically make my monthly premiums lower but i dont qualify because my debt premiums are too high and absolutely no one wants to help me or give me a chance.\n",
    "'''\n",
    "sentiment.polarity_scores(custReview4)"
   ]
  },
  {
   "cell_type": "code",
   "execution_count": 8,
   "metadata": {},
   "outputs": [
    {
     "data": {
      "text/plain": [
       "{'neg': 0.098, 'neu': 0.834, 'pos': 0.068, 'compound': -0.8059}"
      ]
     },
     "execution_count": 8,
     "metadata": {},
     "output_type": "execute_result"
    }
   ],
   "source": [
    "custReview5 = '''\n",
    "I bank with Nedbank and my account number is **********. My employer paid my salary last Saturday but till today it has not been cleared. My kids have no food and my bills are not paid. I called the help centre and was advised to go to the branch. I am traveling due to work so I was close to Alex Mall Branch and Melanie the consultant contacted about 5 department to get assistance but there was no joy. I then went to Twitter again I was referred to the legal department which I phoned and they said there's nothing wrong from their side. I must go back to the branch because they should know who they should call to remove the block on my account. Then I said it can't be why does she call the branch because I'm now in North West on work. I have used all avenues to get my money released but no one in this bank seems to know how to help me. I am now tweeting and swearing until you fix my problem. ********** is my number. Don't call me if you have not fixed it\n",
    "'''\n",
    "\n",
    "sentiment.polarity_scores(custReview5)"
   ]
  },
  {
   "cell_type": "code",
   "execution_count": 9,
   "metadata": {},
   "outputs": [
    {
     "data": {
      "text/plain": [
       "{'neg': 0.129, 'neu': 0.745, 'pos': 0.126, 'compound': -0.0258}"
      ]
     },
     "execution_count": 9,
     "metadata": {},
     "output_type": "execute_result"
    }
   ],
   "source": [
    "custReview6 = '''\n",
    "can someone just assist with my query why have rewards and want us to pay if we utilise them. what's making things worse their agents they know nothing about it\n",
    "'''\n",
    "sentiment.polarity_scores(custReview6)"
   ]
  },
  {
   "cell_type": "markdown",
   "metadata": {},
   "source": [
    "### Conclusion\n",
    "- I think this model is a good starting point for sentiment analysis\n",
    "- It is a good model to use for a quick sentiment analysis\n",
    "- Let me run some tests on the model to see how it performs on various datasets\n",
    "\n",
    "In the next notebook, I will be using the model to predict emotions on a customer review dataset/ corpus\n"
   ]
  }
 ],
 "metadata": {
  "kernelspec": {
   "display_name": "Python 3",
   "language": "python",
   "name": "python3"
  },
  "language_info": {
   "codemirror_mode": {
    "name": "ipython",
    "version": 3
   },
   "file_extension": ".py",
   "mimetype": "text/x-python",
   "name": "python",
   "nbconvert_exporter": "python",
   "pygments_lexer": "ipython3",
   "version": "3.10.9 (tags/v3.10.9:1dd9be6, Dec  6 2022, 20:01:21) [MSC v.1934 64 bit (AMD64)]"
  },
  "orig_nbformat": 4,
  "vscode": {
   "interpreter": {
    "hash": "9b4576989fbb10b6324e4e2175098155b527d854b2fe5ae564203603ba498569"
   }
  }
 },
 "nbformat": 4,
 "nbformat_minor": 2
}
