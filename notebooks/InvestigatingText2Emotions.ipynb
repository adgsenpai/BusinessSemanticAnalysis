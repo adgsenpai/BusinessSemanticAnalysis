{
 "cells": [
  {
   "cell_type": "markdown",
   "metadata": {},
   "source": [
    "# InvestigatingText2Emotions"
   ]
  },
  {
   "cell_type": "markdown",
   "metadata": {},
   "source": [
    "### Objective\n",
    "- Get a better understanding of the Text2Emotions model\n",
    "- Trying to understand the model's predictions\n",
    "- Using the model to predict emotions for a given text\n",
    "- Using the model to predict emotions on a customer review dataset/ corpus"
   ]
  },
  {
   "cell_type": "code",
   "execution_count": 6,
   "metadata": {},
   "outputs": [
    {
     "data": {
      "text/plain": [
       "{'Happy': 1.0, 'Angry': 0.0, 'Surprise': 0.0, 'Sad': 0.0, 'Fear': 0.0}"
      ]
     },
     "execution_count": 6,
     "metadata": {},
     "output_type": "execute_result"
    }
   ],
   "source": [
    "import text2emotion as te\n",
    "te.get_emotion(\"I am happy\")"
   ]
  },
  {
   "cell_type": "markdown",
   "metadata": {},
   "source": [
    "Seems like we got an emotion for `Happy` with a score of `1`\n",
    "\n",
    "Now lets try to do a customer review"
   ]
  },
  {
   "cell_type": "code",
   "execution_count": 7,
   "metadata": {},
   "outputs": [
    {
     "data": {
      "text/plain": [
       "{'Happy': 0.07, 'Angry': 0.0, 'Surprise': 0.13, 'Sad': 0.47, 'Fear': 0.33}"
      ]
     },
     "execution_count": 7,
     "metadata": {},
     "output_type": "execute_result"
    }
   ],
   "source": [
    "te.get_emotion(\"Bought a cazebo at montagu gardens branch. The special included sides. When we took the cazebo we were told they dont have any stock left of the side panels. When asked to find out by the manager, we were told that the manager said  we need to buy the cazebo without sides. Eventually when I demanded that the manager come tell me this herself I was told by Dumisani that she said it is fine, we can come fetch the side panels when they have stock and Dumisani will phone me. One week later, website shows lots of stock but no call.. False advertising. So am I receiving a call from the manager in Montagu Gardens?? When am I getting my side panels??\")"
   ]
  },
  {
   "cell_type": "code",
   "execution_count": 8,
   "metadata": {},
   "outputs": [
    {
     "data": {
      "text/plain": [
       "{'Happy': 0.33, 'Angry': 0.0, 'Surprise': 0.17, 'Sad': 0.17, 'Fear': 0.33}"
      ]
     },
     "execution_count": 8,
     "metadata": {},
     "output_type": "execute_result"
    }
   ],
   "source": [
    "te.get_emotion(\"Whaooo beautiful experience I would definitely recommend you to my friends and family you promise to be a solution to South Africans\")"
   ]
  },
  {
   "cell_type": "code",
   "execution_count": 9,
   "metadata": {},
   "outputs": [
    {
     "data": {
      "text/plain": [
       "{'Happy': 0.11, 'Angry': 0.11, 'Surprise': 0.11, 'Sad': 0.11, 'Fear': 0.56}"
      ]
     },
     "execution_count": 9,
     "metadata": {},
     "output_type": "execute_result"
    }
   ],
   "source": [
    "te.get_emotion('''\n",
    "I called mi way informing that im changing banks n dat thy shud start debiting frm the new account i called ova 10 times n the request wa neva done.\n",
    "N 2 days later i got an email saying dat my policy has been cancelled  and wat frustrates me is dat i spoje to a consultant n he promised to call me bck n he neva did.. i sent emails no respond.\n",
    "\n",
    "Bad service i got .i doubt i wuld b recommending to any one coz ive been paying  n  paying dn boom policy canceled\n",
    "''')"
   ]
  },
  {
   "cell_type": "code",
   "execution_count": 10,
   "metadata": {},
   "outputs": [
    {
     "data": {
      "text/plain": [
       "{'Happy': 0.07, 'Angry': 0.07, 'Surprise': 0.07, 'Sad': 0.27, 'Fear': 0.53}"
      ]
     },
     "execution_count": 10,
     "metadata": {},
     "output_type": "execute_result"
    }
   ],
   "source": [
    "te.get_emotion('''\n",
    "I ordered the fibre deal on the 7th of November and today is 3rd Desember. Nobody has contacted me to make an appointment for the installation of the fibre. My account was debited on the 28th of November without using the fibre which means I paid double this month. I paid my premium account as well the DSTV fibre. After MANY phone calls from my side to the call centre as well as MANY escalations of the problem there has been no response from DSTV’s side. I am utterly disgusted and regret the choice I have made to buy this package. I will not recommend DSTV to anyone.\n",
    "''')"
   ]
  },
  {
   "cell_type": "code",
   "execution_count": 12,
   "metadata": {},
   "outputs": [
    {
     "data": {
      "text/plain": [
       "{'Happy': 0.08, 'Angry': 0.0, 'Surprise': 0.0, 'Sad': 0.46, 'Fear': 0.46}"
      ]
     },
     "execution_count": 12,
     "metadata": {},
     "output_type": "execute_result"
    }
   ],
   "source": [
    "te.get_emotion('''I have spend R171 rand trying to sort out a problem on the phone eith DSTV. I told them i will be running put of call time yesterday around 17.30 pm and the promised to call me back. It is now 12.25 Saturday a day later and still no one has called . i tried to call them again this morning and spoke to Amel Vonleuiters and she promised to call me back after i had to explain to her that my Netflix box has dissapeared when i go into the Dstv APPS. it has always been there. I tried again to call DSTV and this time i was told to speak to them untill my call time runs out. All i want is someone to call me to sort out my Netfix and to explain why a debit order for google Netflix want through my banking account and put it in writing what was the problem and how they have fixed it or are going to fix it.''')"
   ]
  },
  {
   "cell_type": "code",
   "execution_count": 13,
   "metadata": {},
   "outputs": [
    {
     "data": {
      "text/plain": [
       "{'Happy': 0.0, 'Angry': 0.0, 'Surprise': 0.08, 'Sad': 0.08, 'Fear': 0.83}"
      ]
     },
     "execution_count": 13,
     "metadata": {},
     "output_type": "execute_result"
    }
   ],
   "source": [
    "te.get_emotion('''I would like to compliment Portia From DSTV insurance, for her professionalism and taking ownership of my query.\n",
    "My DStv account was cancelled in error by of the call center agent, subsequently leading to my insurance been cancelled.\n",
    "Portia assured me that she will resolve my query \n",
    "Indeed that’s what she done. She called me back to inform me that my insurance been reinstated from inception and send me my insurance documents \n",
    "She went the extra mile''')"
   ]
  },
  {
   "cell_type": "markdown",
   "metadata": {},
   "source": [
    "Based on this investigation i can see this NLP algorithm is not accurate. It does not understand the context of the text. It just looks for keywords and assigns an emotion to it. This is not a good approach. I would like to see a better approach to this problem."
   ]
  }
 ],
 "metadata": {
  "kernelspec": {
   "display_name": "Python 3",
   "language": "python",
   "name": "python3"
  },
  "language_info": {
   "codemirror_mode": {
    "name": "ipython",
    "version": 3
   },
   "file_extension": ".py",
   "mimetype": "text/x-python",
   "name": "python",
   "nbconvert_exporter": "python",
   "pygments_lexer": "ipython3",
   "version": "3.10.9 (tags/v3.10.9:1dd9be6, Dec  6 2022, 20:01:21) [MSC v.1934 64 bit (AMD64)]"
  },
  "orig_nbformat": 4,
  "vscode": {
   "interpreter": {
    "hash": "9b4576989fbb10b6324e4e2175098155b527d854b2fe5ae564203603ba498569"
   }
  }
 },
 "nbformat": 4,
 "nbformat_minor": 2
}
