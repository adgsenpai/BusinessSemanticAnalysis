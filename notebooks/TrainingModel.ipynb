{
 "cells": [
  {
   "cell_type": "code",
   "execution_count": 1,
   "metadata": {},
   "outputs": [],
   "source": [
    "import pandas as pd \n",
    "import numpy as np\n",
    "from vaderSentiment.vaderSentiment import SentimentIntensityAnalyzer\n",
    "sentiment = SentimentIntensityAnalyzer()\n",
    "\n",
    "# Read the data\n",
    "df = pd.read_csv('./data/trainingData.csv')"
   ]
  },
  {
   "cell_type": "code",
   "execution_count": 2,
   "metadata": {},
   "outputs": [],
   "source": [
    "# add the sentiment score to the dataframe add the dictionary rows as columns\n",
    "df = df.join(pd.DataFrame(df['comment'].apply(sentiment.polarity_scores).tolist()))"
   ]
  },
  {
   "cell_type": "code",
   "execution_count": 3,
   "metadata": {},
   "outputs": [
    {
     "data": {
      "text/html": [
       "<div>\n",
       "<style scoped>\n",
       "    .dataframe tbody tr th:only-of-type {\n",
       "        vertical-align: middle;\n",
       "    }\n",
       "\n",
       "    .dataframe tbody tr th {\n",
       "        vertical-align: top;\n",
       "    }\n",
       "\n",
       "    .dataframe thead th {\n",
       "        text-align: right;\n",
       "    }\n",
       "</style>\n",
       "<table border=\"1\" class=\"dataframe\">\n",
       "  <thead>\n",
       "    <tr style=\"text-align: right;\">\n",
       "      <th></th>\n",
       "      <th>comment</th>\n",
       "      <th>sentiment</th>\n",
       "      <th>review_rating</th>\n",
       "      <th>author_total_reviews_count</th>\n",
       "      <th>neg</th>\n",
       "      <th>neu</th>\n",
       "      <th>pos</th>\n",
       "      <th>compound</th>\n",
       "    </tr>\n",
       "  </thead>\n",
       "  <tbody>\n",
       "    <tr>\n",
       "      <th>0</th>\n",
       "      <td>Not telkpm I pay R519 per month and can't sign...</td>\n",
       "      <td>0</td>\n",
       "      <td>1</td>\n",
       "      <td>3</td>\n",
       "      <td>0.000</td>\n",
       "      <td>0.966</td>\n",
       "      <td>0.034</td>\n",
       "      <td>0.0762</td>\n",
       "    </tr>\n",
       "    <tr>\n",
       "      <th>1</th>\n",
       "      <td>Please help me clear my name I can't even buy ...</td>\n",
       "      <td>0</td>\n",
       "      <td>1</td>\n",
       "      <td>3</td>\n",
       "      <td>0.050</td>\n",
       "      <td>0.788</td>\n",
       "      <td>0.161</td>\n",
       "      <td>0.8608</td>\n",
       "    </tr>\n",
       "    <tr>\n",
       "      <th>2</th>\n",
       "      <td>Untrustworthy business I was contacted if I wa...</td>\n",
       "      <td>0</td>\n",
       "      <td>1</td>\n",
       "      <td>50</td>\n",
       "      <td>0.072</td>\n",
       "      <td>0.900</td>\n",
       "      <td>0.028</td>\n",
       "      <td>-0.5994</td>\n",
       "    </tr>\n",
       "    <tr>\n",
       "      <th>3</th>\n",
       "      <td>telkom Have been in a fight with TELKOM since ...</td>\n",
       "      <td>0</td>\n",
       "      <td>1</td>\n",
       "      <td>1</td>\n",
       "      <td>0.203</td>\n",
       "      <td>0.730</td>\n",
       "      <td>0.066</td>\n",
       "      <td>-0.9669</td>\n",
       "    </tr>\n",
       "    <tr>\n",
       "      <th>4</th>\n",
       "      <td>TELKOM Killarney Looting on Upgrade -10, \\nSo ...</td>\n",
       "      <td>0</td>\n",
       "      <td>1</td>\n",
       "      <td>5</td>\n",
       "      <td>0.099</td>\n",
       "      <td>0.889</td>\n",
       "      <td>0.013</td>\n",
       "      <td>-0.9837</td>\n",
       "    </tr>\n",
       "  </tbody>\n",
       "</table>\n",
       "</div>"
      ],
      "text/plain": [
       "                                             comment  sentiment  \\\n",
       "0  Not telkpm I pay R519 per month and can't sign...          0   \n",
       "1  Please help me clear my name I can't even buy ...          0   \n",
       "2  Untrustworthy business I was contacted if I wa...          0   \n",
       "3  telkom Have been in a fight with TELKOM since ...          0   \n",
       "4  TELKOM Killarney Looting on Upgrade -10, \\nSo ...          0   \n",
       "\n",
       "   review_rating  author_total_reviews_count    neg    neu    pos  compound  \n",
       "0              1                           3  0.000  0.966  0.034    0.0762  \n",
       "1              1                           3  0.050  0.788  0.161    0.8608  \n",
       "2              1                          50  0.072  0.900  0.028   -0.5994  \n",
       "3              1                           1  0.203  0.730  0.066   -0.9669  \n",
       "4              1                           5  0.099  0.889  0.013   -0.9837  "
      ]
     },
     "execution_count": 3,
     "metadata": {},
     "output_type": "execute_result"
    }
   ],
   "source": [
    "df.head()"
   ]
  },
  {
   "cell_type": "code",
   "execution_count": 4,
   "metadata": {},
   "outputs": [
    {
     "name": "stdout",
     "output_type": "stream",
     "text": [
      "✔ Download and installation successful\n",
      "You can now load the package via spacy.load('en_core_web_sm')\n"
     ]
    }
   ],
   "source": [
    "import spacy.cli\n",
    "spacy.cli.download(\"en_core_web_sm\")"
   ]
  },
  {
   "cell_type": "code",
   "execution_count": 13,
   "metadata": {},
   "outputs": [
    {
     "name": "stdout",
     "output_type": "stream",
     "text": [
      "Collecting tensorflow.io\n",
      "  Downloading tensorflow_io-0.29.0-cp310-cp310-win_amd64.whl (22.9 MB)\n",
      "     ---------------------------------------- 22.9/22.9 MB 1.1 MB/s eta 0:00:00\n",
      "Requirement already satisfied: tensorflow-io-gcs-filesystem==0.29.0 in c:\\users\\adgru\\appdata\\local\\packages\\pythonsoftwarefoundation.python.3.10_qbz5n2kfra8p0\\localcache\\local-packages\\python310\\site-packages (from tensorflow.io) (0.29.0)\n",
      "Installing collected packages: tensorflow.io\n",
      "Successfully installed tensorflow.io-0.29.0\n"
     ]
    }
   ],
   "source": [
    "!pip install tensorflow.io"
   ]
  },
  {
   "cell_type": "code",
   "execution_count": 9,
   "metadata": {},
   "outputs": [
    {
     "name": "stderr",
     "output_type": "stream",
     "text": [
      "100%|██████████| 1000/1000 [00:48<00:00, 20.75it/s]\n",
      "C:\\Users\\adgru\\AppData\\Local\\Temp\\ipykernel_7900\\3337115353.py:16: SettingWithCopyWarning: \n",
      "A value is trying to be set on a copy of a slice from a DataFrame.\n",
      "Try using .loc[row_indexer,col_indexer] = value instead\n",
      "\n",
      "See the caveats in the documentation: https://pandas.pydata.org/pandas-docs/stable/user_guide/indexing.html#returning-a-view-versus-a-copy\n",
      "  df1k['comment_vector'] = progress_apply(df1k['comment'], lambda x: nlp(x).vector)\n"
     ]
    },
    {
     "data": {
      "text/html": [
       "<div>\n",
       "<style scoped>\n",
       "    .dataframe tbody tr th:only-of-type {\n",
       "        vertical-align: middle;\n",
       "    }\n",
       "\n",
       "    .dataframe tbody tr th {\n",
       "        vertical-align: top;\n",
       "    }\n",
       "\n",
       "    .dataframe thead th {\n",
       "        text-align: right;\n",
       "    }\n",
       "</style>\n",
       "<table border=\"1\" class=\"dataframe\">\n",
       "  <thead>\n",
       "    <tr style=\"text-align: right;\">\n",
       "      <th></th>\n",
       "      <th>comment</th>\n",
       "      <th>sentiment</th>\n",
       "      <th>review_rating</th>\n",
       "      <th>author_total_reviews_count</th>\n",
       "      <th>neg</th>\n",
       "      <th>neu</th>\n",
       "      <th>pos</th>\n",
       "      <th>compound</th>\n",
       "      <th>comment_vector</th>\n",
       "    </tr>\n",
       "  </thead>\n",
       "  <tbody>\n",
       "    <tr>\n",
       "      <th>0</th>\n",
       "      <td>Not telkpm I pay R519 per month and can't sign...</td>\n",
       "      <td>0</td>\n",
       "      <td>1</td>\n",
       "      <td>3</td>\n",
       "      <td>0.000</td>\n",
       "      <td>0.966</td>\n",
       "      <td>0.034</td>\n",
       "      <td>0.0762</td>\n",
       "      <td>[0.25556496, 0.08746679, 0.11655528, -0.298704...</td>\n",
       "    </tr>\n",
       "    <tr>\n",
       "      <th>1</th>\n",
       "      <td>Please help me clear my name I can't even buy ...</td>\n",
       "      <td>0</td>\n",
       "      <td>1</td>\n",
       "      <td>3</td>\n",
       "      <td>0.050</td>\n",
       "      <td>0.788</td>\n",
       "      <td>0.161</td>\n",
       "      <td>0.8608</td>\n",
       "      <td>[0.24544515, -0.03279207, -0.10688014, -0.1685...</td>\n",
       "    </tr>\n",
       "    <tr>\n",
       "      <th>2</th>\n",
       "      <td>Untrustworthy business I was contacted if I wa...</td>\n",
       "      <td>0</td>\n",
       "      <td>1</td>\n",
       "      <td>50</td>\n",
       "      <td>0.072</td>\n",
       "      <td>0.900</td>\n",
       "      <td>0.028</td>\n",
       "      <td>-0.5994</td>\n",
       "      <td>[0.2233982, -0.0018093835, 0.20441963, -0.1716...</td>\n",
       "    </tr>\n",
       "    <tr>\n",
       "      <th>3</th>\n",
       "      <td>telkom Have been in a fight with TELKOM since ...</td>\n",
       "      <td>0</td>\n",
       "      <td>1</td>\n",
       "      <td>1</td>\n",
       "      <td>0.203</td>\n",
       "      <td>0.730</td>\n",
       "      <td>0.066</td>\n",
       "      <td>-0.9669</td>\n",
       "      <td>[0.18760735, -0.037614163, -0.016246133, -0.24...</td>\n",
       "    </tr>\n",
       "    <tr>\n",
       "      <th>4</th>\n",
       "      <td>TELKOM Killarney Looting on Upgrade -10, \\nSo ...</td>\n",
       "      <td>0</td>\n",
       "      <td>1</td>\n",
       "      <td>5</td>\n",
       "      <td>0.099</td>\n",
       "      <td>0.889</td>\n",
       "      <td>0.013</td>\n",
       "      <td>-0.9837</td>\n",
       "      <td>[0.07541147, 0.030931279, 0.30048388, -0.10145...</td>\n",
       "    </tr>\n",
       "  </tbody>\n",
       "</table>\n",
       "</div>"
      ],
      "text/plain": [
       "                                             comment  sentiment  \\\n",
       "0  Not telkpm I pay R519 per month and can't sign...          0   \n",
       "1  Please help me clear my name I can't even buy ...          0   \n",
       "2  Untrustworthy business I was contacted if I wa...          0   \n",
       "3  telkom Have been in a fight with TELKOM since ...          0   \n",
       "4  TELKOM Killarney Looting on Upgrade -10, \\nSo ...          0   \n",
       "\n",
       "   review_rating  author_total_reviews_count    neg    neu    pos  compound  \\\n",
       "0              1                           3  0.000  0.966  0.034    0.0762   \n",
       "1              1                           3  0.050  0.788  0.161    0.8608   \n",
       "2              1                          50  0.072  0.900  0.028   -0.5994   \n",
       "3              1                           1  0.203  0.730  0.066   -0.9669   \n",
       "4              1                           5  0.099  0.889  0.013   -0.9837   \n",
       "\n",
       "                                      comment_vector  \n",
       "0  [0.25556496, 0.08746679, 0.11655528, -0.298704...  \n",
       "1  [0.24544515, -0.03279207, -0.10688014, -0.1685...  \n",
       "2  [0.2233982, -0.0018093835, 0.20441963, -0.1716...  \n",
       "3  [0.18760735, -0.037614163, -0.016246133, -0.24...  \n",
       "4  [0.07541147, 0.030931279, 0.30048388, -0.10145...  "
      ]
     },
     "execution_count": 9,
     "metadata": {},
     "output_type": "execute_result"
    }
   ],
   "source": [
    "import spacy\n",
    "import en_core_web_sm\n",
    "\n",
    "nlp = en_core_web_sm.load()\n",
    "\n",
    "df1k = df[:1000]\n",
    "\n",
    "def progress_apply(df, func, *args, **kwargs):\n",
    "    from tqdm import tqdm\n",
    "    tqdm.pandas()\n",
    "    return df.progress_apply(func, *args, **kwargs)\n",
    "\n",
    "# vectorize the comments and monitor the progress\n",
    "#df['comment_vector'] = progress_apply(df['comment'], lambda x: nlp(x).vector)\n",
    "\n",
    "df1k['comment_vector'] = progress_apply(df1k['comment'], lambda x: nlp(x).vector)\n",
    "df1k.head()"
   ]
  },
  {
   "cell_type": "code",
   "execution_count": null,
   "metadata": {},
   "outputs": [],
   "source": [
    "# count sentiment scores for \n"
   ]
  },
  {
   "cell_type": "code",
   "execution_count": 41,
   "metadata": {},
   "outputs": [
    {
     "name": "stdout",
     "output_type": "stream",
     "text": [
      "Epoch 1/10\n",
      "25/25 [==============================] - 1s 2ms/step - loss: 0.2897 - accuracy: 0.9625\n",
      "Epoch 2/10\n",
      "25/25 [==============================] - 0s 4ms/step - loss: 0.0061 - accuracy: 1.0000\n",
      "Epoch 3/10\n",
      "25/25 [==============================] - 0s 3ms/step - loss: 6.7281e-04 - accuracy: 1.0000\n",
      "Epoch 4/10\n",
      "25/25 [==============================] - 0s 3ms/step - loss: 3.8951e-04 - accuracy: 1.0000\n",
      "Epoch 5/10\n",
      "25/25 [==============================] - 0s 3ms/step - loss: 2.7898e-04 - accuracy: 1.0000\n",
      "Epoch 6/10\n",
      "25/25 [==============================] - 0s 3ms/step - loss: 2.0753e-04 - accuracy: 1.0000\n",
      "Epoch 7/10\n",
      "25/25 [==============================] - 0s 3ms/step - loss: 1.5609e-04 - accuracy: 1.0000\n",
      "Epoch 8/10\n",
      "25/25 [==============================] - 0s 3ms/step - loss: 1.1877e-04 - accuracy: 1.0000\n",
      "Epoch 9/10\n",
      "25/25 [==============================] - 0s 3ms/step - loss: 9.2304e-05 - accuracy: 1.0000\n",
      "Epoch 10/10\n",
      "25/25 [==============================] - 0s 3ms/step - loss: 7.2365e-05 - accuracy: 1.0000\n",
      "7/7 - 0s - loss: 8.2385e-05 - accuracy: 1.0000 - 273ms/epoch - 39ms/step\n",
      "Test accuracy: 1.0\n"
     ]
    }
   ],
   "source": [
    "import tensorflow as tf\n",
    "from tensorflow import keras\n",
    "from keras.callbacks import History \n",
    "history = History()\n",
    "# split the data into train and test\n",
    "train_size = int(len(df1k) * .8)\n",
    "train_comments = df1k['comment_vector'][:train_size]\n",
    "train_scores = df1k[['neg', 'neu', 'pos', 'compound']][:train_size]\n",
    "train_comment_vector = tf.convert_to_tensor(np.array(df1k['comment_vector'][:train_size].tolist()))\n",
    "train_sentiment = df1k['sentiment'][:train_size]\n",
    "\n",
    "test_comments = df1k['comment_vector'][train_size:]\n",
    "test_scores = df1k[['neg', 'neu', 'pos', 'compound']][train_size:]\n",
    "test_comment_vector = tf.convert_to_tensor(np.array(df1k['comment_vector'][train_size:].tolist()))\n",
    "test_sentiment = df1k['sentiment'][train_size:]\n",
    "\n",
    "# create the model to predict the sentiment\n",
    "model = keras.Sequential([\n",
    "    keras.layers.Dense(128, activation='relu'),\n",
    "    keras.layers.Dense(64, activation='relu'),\n",
    "    keras.layers.Dense(1, activation='sigmoid')\n",
    "])\n",
    "\n",
    "\n",
    "\n",
    "model.compile(optimizer='adam',\n",
    "                loss='binary_crossentropy',\n",
    "                metrics=['accuracy'])\n",
    "\n",
    "# train the model\n",
    "model.fit(train_comment_vector, train_sentiment, epochs=10, callbacks=[history])\n",
    "\n",
    "# evaluate the model\n",
    "test_loss, test_acc = model.evaluate(test_comment_vector, test_sentiment, verbose=2)\n",
    "print('Test accuracy:', test_acc)\n",
    "\n",
    "# save the model\n",
    "model.save('./models/sentiment_model.h5')\n",
    "\n"
   ]
  },
  {
   "cell_type": "code",
   "execution_count": 42,
   "metadata": {},
   "outputs": [
    {
     "data": {
      "image/png": "[encoded data removed]",
      "text/plain": [
       "<Figure size 640x480 with 1 Axes>"
      ]
     },
     "metadata": {},
     "output_type": "display_data"
    }
   ],
   "source": [
    "#plot the model using matplotlib\n",
    "import matplotlib.pyplot as plt\n",
    "plt.plot(history.history['accuracy'])\n",
    "plt.plot(history.history['loss'])\n",
    "plt.title('model accuracy')\n",
    "plt.ylabel('accuracy')\n",
    "plt.xlabel('epoch')\n",
    "plt.legend(['accuracy', 'loss'], loc='upper left')\n",
    "plt.show()"
   ]
  },
  {
   "cell_type": "code",
   "execution_count": 52,
   "metadata": {},
   "outputs": [
    {
     "name": "stdout",
     "output_type": "stream",
     "text": [
      "1/1 [==============================] - 0s 32ms/step\n",
      "0\n"
     ]
    }
   ],
   "source": [
    "# make a prediction using a comment such as \"I love this product\"\n",
    "comment = \"This product is great\"\n",
    "comment_vector = tf.convert_to_tensor(np.array([nlp(comment).vector.tolist()]))\n",
    "# get the sentiment score\n",
    "sentiment = model.predict(comment_vector)\n",
    "\n",
    "# round the sentiment score to 0 or 1 or 2\n",
    "print(round(sentiment[0][0]))"
   ]
  }
 ],
 "metadata": {
  "kernelspec": {
   "display_name": "Python 3",
   "language": "python",
   "name": "python3"
  },
  "language_info": {
   "codemirror_mode": {
    "name": "ipython",
    "version": 3
   },
   "file_extension": ".py",
   "mimetype": "text/x-python",
   "name": "python",
   "nbconvert_exporter": "python",
   "pygments_lexer": "ipython3",
   "version": "3.10.9 (tags/v3.10.9:1dd9be6, Dec  6 2022, 20:01:21) [MSC v.1934 64 bit (AMD64)]"
  },
  "orig_nbformat": 4,
  "vscode": {
   "interpreter": {
    "hash": "9b4576989fbb10b6324e4e2175098155b527d854b2fe5ae564203603ba498569"
   }
  }
 },
 "nbformat": 4,
 "nbformat_minor": 2
}
